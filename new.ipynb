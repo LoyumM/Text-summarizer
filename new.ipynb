{
 "cells": [
  {
   "cell_type": "code",
   "execution_count": 1,
   "metadata": {},
   "outputs": [
    {
     "name": "stderr",
     "output_type": "stream",
     "text": [
      "Downloading...\n",
      "From (uriginal): https://drive.google.com/uc?export=download&id=15eD9fj2bJwH5Vg7mt1uXCdkO_Eb0OgiH\n",
      "From (redirected): https://drive.google.com/uc?export=download&id=15eD9fj2bJwH5Vg7mt1uXCdkO_Eb0OgiH&confirm=t&uuid=2cbba89f-93d0-40fc-9d62-2945304bc261\n",
      "To: d:\\Project\\Text-summarizer\\artifacts\\model_trainer\\pegasus-samsum-model-new.7z\n",
      "100%|██████████| 2.10G/2.10G [06:42<00:00, 5.23MB/s]\n"
     ]
    }
   ],
   "source": [
    "import gdown\n",
    "import py7zr\n",
    "\n",
    "model_url = \"https://drive.google.com/uc?export=download&id=15eD9fj2bJwH5Vg7mt1uXCdkO_Eb0OgiH\"\n",
    "file_path = \"artifacts\\model_trainer\\pegasus-samsum-model-new.7z\"\n",
    "output_dir = \"artifacts\\model_trainer\"\n",
    "\n",
    "def download_file(url, output_path):\n",
    "    gdown.download(url, output_path, quiet=False)\n",
    "\n",
    "# @st.cache_data     \n",
    "def load_files(url, filename):\n",
    "    download_file(url, filename)\n",
    "    \n",
    "def unzip_7zip(file_path, output_dir):\n",
    "    with py7zr.SevenZipFile(file_path, mode='r') as archive:\n",
    "        archive.extractall(path=output_dir)\n",
    "\n",
    "\n",
    "\n",
    "load_files(model_url, \"artifacts\\model_trainer\\pegasus-samsum-model-new.7z\")\n",
    "unzip_7zip(file_path, output_dir)"
   ]
  },
  {
   "cell_type": "code",
   "execution_count": 3,
   "metadata": {},
   "outputs": [
    {
     "name": "stdout",
     "output_type": "stream",
     "text": [
      "[2023-06-27 14:51:58,037: INFO: common: yaml file: config\\config.yaml loaded successfully]\n",
      "[2023-06-27 14:51:58,040: INFO: common: yaml file: params.yaml loaded successfully]\n",
      "[2023-06-27 14:51:58,042: INFO: common: created directory at: artifacts]\n",
      "[2023-06-27 14:51:58,043: INFO: common: created directory at: artifacts/model_evaluation]\n",
      "Dialogue:\n",
      "The Large Hadron Collider (LHC) stands as a monumental feat of human ingenuity and scientific exploration. Nestled beneath the Franco-Swiss border, this marvel of engineering is the world's most powerful particle accelerator. With a circumference of 17 miles, it propels protons to nearly the speed of light, smashing them together to recreate the conditions just moments after the Big Bang. The LHC plays a crucial role in our understanding of the fundamental laws of nature. Its groundbreaking discoveries, such as the Higgs boson, have pushed the boundaries of particle physics, unraveling the mysteries of the universe. Scientists from around the globe collaborate at this immense machine, working tirelessly to unlock secrets that will revolutionize our understanding of matter, energy, and the cosmos. The LHC continues to inspire awe and ignite curiosity, shaping the future of scientific exploration.\n",
      "\n",
      "Model Summary:\n",
      "The Large Hadron Collider (LHC) is the world's most powerful particle accelerator. It propels protons to nearly the speed of light, smashing them together to recreate the conditions just moments after the Big Bang.\n"
     ]
    },
    {
     "data": {
      "text/plain": [
       "\"The Large Hadron Collider (LHC) is the world's most powerful particle accelerator. It propels protons to nearly the speed of light, smashing them together to recreate the conditions just moments after the Big Bang.\""
      ]
     },
     "execution_count": 3,
     "metadata": {},
     "output_type": "execute_result"
    }
   ],
   "source": [
    "from textSummarizer.pipeline.prediction import PredictionPipeline\n",
    "\n",
    "def predict_route(text):\n",
    "    try:\n",
    "        obj = PredictionPipeline()\n",
    "        text = obj.predict(text)\n",
    "        return text\n",
    "    except Exception as e:\n",
    "        raise e\n",
    "\n",
    "para = str(input(\"Copy a pragraph of about 120 words: \"))    \n",
    "# print(\"The entered paragraph is \\n\", para)\n",
    "predict_route(para)"
   ]
  }
 ],
 "metadata": {
  "kernelspec": {
   "display_name": "Python 3",
   "language": "python",
   "name": "python3"
  },
  "language_info": {
   "codemirror_mode": {
    "name": "ipython",
    "version": 3
   },
   "file_extension": ".py",
   "mimetype": "text/x-python",
   "name": "python",
   "nbconvert_exporter": "python",
   "pygments_lexer": "ipython3",
   "version": "3.8.16"
  },
  "orig_nbformat": 4
 },
 "nbformat": 4,
 "nbformat_minor": 2
}
