{
 "cells": [
  {
   "cell_type": "code",
   "execution_count": 12,
   "metadata": {},
   "outputs": [
    {
     "name": "stderr",
     "output_type": "stream",
     "text": [
      "Downloading...\n",
      "From (uriginal): https://drive.google.com/uc?export=download&id=15eD9fj2bJwH5Vg7mt1uXCdkO_Eb0OgiH\n",
      "From (redirected): https://drive.google.com/uc?export=download&id=15eD9fj2bJwH5Vg7mt1uXCdkO_Eb0OgiH&confirm=t&uuid=038157e8-09b2-49d7-ba41-af756ba8c0fd\n",
      "To: d:\\Project\\Text-summarizer\\artifacts\\model_trainer\\pegasus-samsum-model-new.7z\n",
      "100%|██████████| 2.10G/2.10G [01:20<00:00, 26.2MB/s]\n"
     ]
    }
   ],
   "source": [
    "import gdown\n",
    "import py7zr\n",
    "\n",
    "model_url = \"https://drive.google.com/uc?export=download&id=15eD9fj2bJwH5Vg7mt1uXCdkO_Eb0OgiH\"\n",
    "file_path = \"artifacts\\model_trainer\\pegasus-samsum-model-new.7z\"\n",
    "output_dir = \"artifacts\\model_trainer\"\n",
    "\n",
    "def download_file(url, output_path):\n",
    "    gdown.download(url, output_path, quiet=False)\n",
    "\n",
    "# @st.cache_data     \n",
    "def load_files(url, filename):\n",
    "    download_file(url, filename)\n",
    "    \n",
    "def unzip_7zip(file_path, output_dir):\n",
    "    with py7zr.SevenZipFile(file_path, mode='r') as archive:\n",
    "        archive.extractall(path=output_dir)\n",
    "\n",
    "\n",
    "\n",
    "load_files(model_url, \"artifacts\\model_trainer\\pegasus-samsum-model-new.7z\")\n",
    "unzip_7zip(file_path, output_dir)"
   ]
  },
  {
   "cell_type": "code",
   "execution_count": null,
   "metadata": {},
   "outputs": [],
   "source": [
    "!pip install py7zr"
   ]
  },
  {
   "cell_type": "code",
   "execution_count": 11,
   "metadata": {},
   "outputs": [],
   "source": [
    "\n",
    "\n",
    "\n"
   ]
  }
 ],
 "metadata": {
  "kernelspec": {
   "display_name": "Python 3",
   "language": "python",
   "name": "python3"
  },
  "language_info": {
   "codemirror_mode": {
    "name": "ipython",
    "version": 3
   },
   "file_extension": ".py",
   "mimetype": "text/x-python",
   "name": "python",
   "nbconvert_exporter": "python",
   "pygments_lexer": "ipython3",
   "version": "3.8.16"
  },
  "orig_nbformat": 4
 },
 "nbformat": 4,
 "nbformat_minor": 2
}
